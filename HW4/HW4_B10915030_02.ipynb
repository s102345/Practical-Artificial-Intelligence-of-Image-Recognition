{
  "nbformat": 4,
  "nbformat_minor": 0,
  "metadata": {
    "colab": {
      "provenance": []
    },
    "kernelspec": {
      "name": "python3",
      "display_name": "Python 3"
    },
    "language_info": {
      "name": "python"
    }
  },
  "cells": [
    {
      "cell_type": "markdown",
      "source": [
        "## Import library"
      ],
      "metadata": {
        "id": "6nErbOXEKgF7"
      }
    },
    {
      "cell_type": "code",
      "execution_count": null,
      "metadata": {
        "id": "8uI7XOhkJyqW"
      },
      "outputs": [],
      "source": [
        "import tensorflow as tf\n",
        "import numpy as np\n",
        "import matplotlib.pyplot as plt\n",
        "from tensorflow.keras.utils import to_categorical"
      ]
    },
    {
      "cell_type": "markdown",
      "source": [
        "## Dataset"
      ],
      "metadata": {
        "id": "r9MY81yZKj6j"
      }
    },
    {
      "cell_type": "markdown",
      "source": [
        "### Load cifar10"
      ],
      "metadata": {
        "id": "MZWW-072UQTS"
      }
    },
    {
      "cell_type": "code",
      "source": [
        "cifar10 = tf.keras.datasets.cifar10\n",
        "\n",
        "(x_train, y_train), (x_test, y_test) = cifar10.load_data() #載入cifar到程式中"
      ],
      "metadata": {
        "id": "4_sUeY5KKa17"
      },
      "execution_count": null,
      "outputs": []
    },
    {
      "cell_type": "code",
      "source": [
        "print(\"train data:\",'images:',x_train.shape,\n",
        "      \" labels:\",y_train.shape)\n",
        "print(\"test  data:\",'images:',x_test.shape ,\n",
        "      \" labels:\",y_test.shape)"
      ],
      "metadata": {
        "colab": {
          "base_uri": "https://localhost:8080/"
        },
        "id": "bb-nIs7oUVYa",
        "outputId": "ee1ede9a-b8ee-4ed4-810d-4f6393b45f8b"
      },
      "execution_count": null,
      "outputs": [
        {
          "output_type": "stream",
          "name": "stdout",
          "text": [
            "train data: images: (50000, 32, 32, 3)  labels: (50000, 1)\n",
            "test  data: images: (10000, 32, 32, 3)  labels: (10000, 1)\n"
          ]
        }
      ]
    },
    {
      "cell_type": "markdown",
      "source": [
        "### Normalize"
      ],
      "metadata": {
        "id": "bX3nvsssURnV"
      }
    },
    {
      "cell_type": "code",
      "source": [
        "#把0-255的像素轉換到0-1之間\n",
        "x_train_norm = x_train / 255.0\n",
        "x_test_norm = x_test / 255.0"
      ],
      "metadata": {
        "id": "gcIGOj-WUSv4"
      },
      "execution_count": null,
      "outputs": []
    },
    {
      "cell_type": "code",
      "source": [
        "x_train_norm.shape"
      ],
      "metadata": {
        "colab": {
          "base_uri": "https://localhost:8080/"
        },
        "id": "eL-gguEsVhRa",
        "outputId": "146320b6-98fa-464b-fb0d-84c3b09de954"
      },
      "execution_count": null,
      "outputs": [
        {
          "output_type": "execute_result",
          "data": {
            "text/plain": [
              "(50000, 32, 32, 3)"
            ]
          },
          "metadata": {},
          "execution_count": 76
        }
      ]
    },
    {
      "cell_type": "markdown",
      "source": [
        "### One hot encode"
      ],
      "metadata": {
        "id": "c4nvncCkD9dO"
      }
    },
    {
      "cell_type": "code",
      "source": [
        "#進行One hot encode 作為label\n",
        "y_train_OneHot = to_categorical(y_train)\n",
        "y_test_OneHot = to_categorical(y_test)"
      ],
      "metadata": {
        "id": "t5Aa2r3aD_GA"
      },
      "execution_count": null,
      "outputs": []
    },
    {
      "cell_type": "markdown",
      "source": [
        "## Data Argument"
      ],
      "metadata": {
        "id": "LerUWVF8R-v5"
      }
    },
    {
      "cell_type": "code",
      "source": [
        "data_augmentation = tf.keras.models.Sequential([\n",
        "  tf.keras.layers.RandomFlip(\"horizontal_and_vertical\"), #水平與垂直翻轉\n",
        "])"
      ],
      "metadata": {
        "id": "QR4BSdmVSAwL"
      },
      "execution_count": null,
      "outputs": []
    },
    {
      "cell_type": "markdown",
      "source": [
        "## Model"
      ],
      "metadata": {
        "id": "ZN9UuqqIKr5Q"
      }
    },
    {
      "cell_type": "code",
      "source": [
        "#建立模型: 卷積網路\n",
        "backbone = tf.keras.models.Sequential([\n",
        "  # 資料擴增 -> 只在train生效\n",
        "  #data_augmentation,\n",
        "  # Model\n",
        "  tf.keras.layers.Conv2D(32, (3,3), strides=1, activation='relu', input_shape=(32, 32, 3), padding='same'), #卷積層採用padding，透過步伐為1，尺寸3x3的kernal來產生32個特徵\n",
        "  tf.keras.layers.MaxPooling2D(pool_size=(2, 2)), #把卷積層的輸出減少一半\n",
        "  tf.keras.layers.Conv2D(64, (3,3), strides=1, activation='relu', padding='same'), #卷積層採用padding，透過步伐為1，尺寸3x3的kernal來產生64個特徵\n",
        "  tf.keras.layers.MaxPooling2D(pool_size=(2, 2)), #把卷積層的輸出減少一半\n",
        "  tf.keras.layers.Conv2D(128, (5,5), strides=1, activation='relu', padding='same'), #卷積層採用padding，透過步伐為1，尺寸5x5的kernal來產生128個特徵\n",
        "  tf.keras.layers.MaxPooling2D(pool_size=(2, 2)), #把卷積層的輸出減少一半\n",
        "  tf.keras.layers.Dropout(0.4), #40% Dropout (40%的節點隨機輸出歸零)\n",
        "  tf.keras.layers.Flatten(), #把Convolution的結果壓扁\n",
        "  tf.keras.layers.Dense(512, activation='relu'), #全連接層(2048 -> 512)，使用relu做激勵函數\n",
        "  tf.keras.layers.Dense(10, activation='softmax') #全連接層輸出 (十類分類指數)，使用softmax做激勵函數\n",
        "])"
      ],
      "metadata": {
        "id": "B3pY7aclKtT8"
      },
      "execution_count": null,
      "outputs": []
    },
    {
      "cell_type": "code",
      "source": [
        "backbone.summary()"
      ],
      "metadata": {
        "colab": {
          "base_uri": "https://localhost:8080/"
        },
        "id": "YUvkH8-LxEq0",
        "outputId": "38c992dd-d124-413c-cdf8-4471dd5d6107"
      },
      "execution_count": null,
      "outputs": [
        {
          "output_type": "stream",
          "name": "stdout",
          "text": [
            "Model: \"sequential_16\"\n",
            "_________________________________________________________________\n",
            " Layer (type)                Output Shape              Param #   \n",
            "=================================================================\n",
            " conv2d_21 (Conv2D)          (None, 32, 32, 32)        896       \n",
            "                                                                 \n",
            " max_pooling2d_21 (MaxPoolin  (None, 16, 16, 32)       0         \n",
            " g2D)                                                            \n",
            "                                                                 \n",
            " conv2d_22 (Conv2D)          (None, 16, 16, 64)        18496     \n",
            "                                                                 \n",
            " max_pooling2d_22 (MaxPoolin  (None, 8, 8, 64)         0         \n",
            " g2D)                                                            \n",
            "                                                                 \n",
            " conv2d_23 (Conv2D)          (None, 8, 8, 128)         204928    \n",
            "                                                                 \n",
            " max_pooling2d_23 (MaxPoolin  (None, 4, 4, 128)        0         \n",
            " g2D)                                                            \n",
            "                                                                 \n",
            " dropout_7 (Dropout)         (None, 4, 4, 128)         0         \n",
            "                                                                 \n",
            " flatten_7 (Flatten)         (None, 2048)              0         \n",
            "                                                                 \n",
            " dense_8 (Dense)             (None, 512)               1049088   \n",
            "                                                                 \n",
            " dense_9 (Dense)             (None, 10)                5130      \n",
            "                                                                 \n",
            "=================================================================\n",
            "Total params: 1,278,538\n",
            "Trainable params: 1,278,538\n",
            "Non-trainable params: 0\n",
            "_________________________________________________________________\n"
          ]
        }
      ]
    },
    {
      "cell_type": "code",
      "source": [
        "model = tf.keras.models.Sequential([\n",
        "    data_augmentation,\n",
        "    backbone\n",
        "])"
      ],
      "metadata": {
        "id": "35fFbVask9Tz"
      },
      "execution_count": null,
      "outputs": []
    },
    {
      "cell_type": "markdown",
      "source": [
        "### Load weight\n",
        "\n"
      ],
      "metadata": {
        "id": "_RJLKPeQzdHU"
      }
    },
    {
      "cell_type": "code",
      "source": [
        "try:\n",
        "    model.load_weights(\"./cifarCnnModel.h5\")\n",
        "    print(\"載入模型成功!繼續訓練模型\")\n",
        "except :\n",
        "    print(\"載入模型失敗!開始訓練一個新模型\")"
      ],
      "metadata": {
        "id": "vDECdCHJxPPf",
        "colab": {
          "base_uri": "https://localhost:8080/"
        },
        "outputId": "d2a41726-4a07-4e0e-c021-fe7e423b9ac9"
      },
      "execution_count": null,
      "outputs": [
        {
          "output_type": "stream",
          "name": "stdout",
          "text": [
            "載入模型失敗!開始訓練一個新模型\n"
          ]
        }
      ]
    },
    {
      "cell_type": "markdown",
      "source": [
        "## Training\n"
      ],
      "metadata": {
        "id": "mtTrazaHxFxF"
      }
    },
    {
      "cell_type": "code",
      "source": [
        "model.compile(optimizer='adam',  #用 adam 優化器\n",
        "              loss='categorical_crossentropy', #指定損失函式\n",
        "              metrics=['accuracy']) #評估指標用「正確度(答對的比率)」"
      ],
      "metadata": {
        "id": "g216c8akLRe_"
      },
      "execution_count": null,
      "outputs": []
    },
    {
      "cell_type": "code",
      "source": [
        "train_history = model.fit(x_train_norm, y_train_OneHot,\n",
        "                          validation_split=0.2, #20%的測試資料拿去當驗證集\n",
        "                          epochs=10, #訓練：10 epochs (訓練資料跑完十次)\n",
        "                          batch_size=128, #一次讀進的資料量\n",
        "                          verbose=1) #進度條"
      ],
      "metadata": {
        "colab": {
          "base_uri": "https://localhost:8080/"
        },
        "id": "j_mlsQNwLS9f",
        "outputId": "a8fb3ce5-ecc4-4e0f-8f9a-18cdea1e0c27"
      },
      "execution_count": null,
      "outputs": [
        {
          "output_type": "stream",
          "name": "stdout",
          "text": [
            "Epoch 1/10\n",
            "313/313 [==============================] - 165s 520ms/step - loss: 1.7126 - accuracy: 0.3674 - val_loss: 1.4464 - val_accuracy: 0.4773\n",
            "Epoch 2/10\n",
            "313/313 [==============================] - 158s 503ms/step - loss: 1.3496 - accuracy: 0.5116 - val_loss: 1.1976 - val_accuracy: 0.5714\n",
            "Epoch 3/10\n",
            "313/313 [==============================] - 159s 508ms/step - loss: 1.1991 - accuracy: 0.5677 - val_loss: 1.1949 - val_accuracy: 0.5731\n",
            "Epoch 4/10\n",
            "313/313 [==============================] - 164s 523ms/step - loss: 1.1105 - accuracy: 0.6023 - val_loss: 1.0536 - val_accuracy: 0.6310\n",
            "Epoch 5/10\n",
            "313/313 [==============================] - 158s 503ms/step - loss: 1.0387 - accuracy: 0.6279 - val_loss: 0.9798 - val_accuracy: 0.6587\n",
            "Epoch 6/10\n",
            "313/313 [==============================] - 158s 506ms/step - loss: 0.9791 - accuracy: 0.6507 - val_loss: 0.9611 - val_accuracy: 0.6576\n",
            "Epoch 7/10\n",
            "313/313 [==============================] - 157s 503ms/step - loss: 0.9393 - accuracy: 0.6639 - val_loss: 0.9155 - val_accuracy: 0.6744\n",
            "Epoch 8/10\n",
            "313/313 [==============================] - 158s 507ms/step - loss: 0.8901 - accuracy: 0.6820 - val_loss: 0.8574 - val_accuracy: 0.6971\n",
            "Epoch 9/10\n",
            "313/313 [==============================] - 158s 504ms/step - loss: 0.8542 - accuracy: 0.6984 - val_loss: 0.8419 - val_accuracy: 0.7051\n",
            "Epoch 10/10\n",
            "313/313 [==============================] - 157s 502ms/step - loss: 0.8303 - accuracy: 0.7053 - val_loss: 0.8341 - val_accuracy: 0.7062\n"
          ]
        }
      ]
    },
    {
      "cell_type": "markdown",
      "source": [
        "### Accuracy"
      ],
      "metadata": {
        "id": "EAazlvoMx2V2"
      }
    },
    {
      "cell_type": "code",
      "source": [
        "def show_acc_train_history(train_acc,test_acc):\n",
        "    plt.plot(train_history.history[train_acc])\n",
        "    plt.plot(train_history.history[test_acc])\n",
        "    plt.title('Train History')\n",
        "    plt.ylabel('Accuracy')\n",
        "    plt.xlabel('Epoch')\n",
        "    plt.legend(['train', 'test'], loc='upper left')\n",
        "    plt.show()"
      ],
      "metadata": {
        "id": "p_TeinsGSTQP"
      },
      "execution_count": null,
      "outputs": []
    },
    {
      "cell_type": "code",
      "source": [
        "show_acc_train_history('accuracy','val_accuracy')"
      ],
      "metadata": {
        "colab": {
          "base_uri": "https://localhost:8080/",
          "height": 472
        },
        "id": "Md4wSTxQu2dj",
        "outputId": "2a59641e-d5a3-4a2e-8283-665eccf2c129"
      },
      "execution_count": null,
      "outputs": [
        {
          "output_type": "display_data",
          "data": {
            "text/plain": [
              "<Figure size 640x480 with 1 Axes>"
            ],
            "image/png": "[encoded data removed]"
          },
          "metadata": {}
        }
      ]
    },
    {
      "cell_type": "markdown",
      "source": [
        "### Loss"
      ],
      "metadata": {
        "id": "olbN-5lCx4ZT"
      }
    },
    {
      "cell_type": "code",
      "source": [
        "def show_loss_train_history(train_loss,test_loss):\n",
        "    plt.plot(train_history.history[train_loss])\n",
        "    plt.plot(train_history.history[test_loss])\n",
        "    plt.title('Train History')\n",
        "    plt.ylabel('Loss')\n",
        "    plt.xlabel('Epoch')\n",
        "    plt.legend(['train', 'test'], loc='upper left')\n",
        "    plt.show()"
      ],
      "metadata": {
        "id": "hxeSgc1Hu5YX"
      },
      "execution_count": null,
      "outputs": []
    },
    {
      "cell_type": "code",
      "source": [
        "show_loss_train_history('loss','val_loss')"
      ],
      "metadata": {
        "colab": {
          "base_uri": "https://localhost:8080/",
          "height": 472
        },
        "id": "8gnQmbioSh4H",
        "outputId": "eb586a6b-34c6-4239-8434-bdf9e9d5b48a"
      },
      "execution_count": null,
      "outputs": [
        {
          "output_type": "display_data",
          "data": {
            "text/plain": [
              "<Figure size 640x480 with 1 Axes>"
            ],
            "image/png": "[encoded data removed]"
          },
          "metadata": {}
        }
      ]
    },
    {
      "cell_type": "markdown",
      "source": [
        "## Test"
      ],
      "metadata": {
        "id": "GuMWBF9ZxItQ"
      }
    },
    {
      "cell_type": "code",
      "source": [
        "label_dict={0:\"airplane\",1:\"automobile\",2:\"bird\",3:\"cat\",4:\"deer\",\n",
        "            5:\"dog\",6:\"frog\",7:\"horse\",8:\"ship\",9:\"truck\"}"
      ],
      "metadata": {
        "id": "ljC6M7xvW8G2"
      },
      "execution_count": null,
      "outputs": []
    },
    {
      "cell_type": "markdown",
      "source": [
        "### On test set"
      ],
      "metadata": {
        "id": "uF8doYTEx57o"
      }
    },
    {
      "cell_type": "code",
      "source": [
        "loss, acc = model.evaluate(x_test_norm,  y_test_OneHot, verbose=0) #評估測試組的平均損失與正確率\n",
        "print(\"Loss:\", loss)\n",
        "print(\"Accuracy\", acc)"
      ],
      "metadata": {
        "colab": {
          "base_uri": "https://localhost:8080/"
        },
        "id": "v5m16HbNLUkJ",
        "outputId": "14fb6791-4307-4f7c-84c0-b32294cc4efa"
      },
      "execution_count": null,
      "outputs": [
        {
          "output_type": "stream",
          "name": "stdout",
          "text": [
            "Loss: 0.8468765616416931\n",
            "Accuracy 0.703000009059906\n"
          ]
        }
      ]
    },
    {
      "cell_type": "code",
      "source": [
        "prediction=np.argmax(model.predict(x_test_norm), axis=-1)\n",
        "prediction[:10]"
      ],
      "metadata": {
        "id": "2wQGFx50LWMS",
        "colab": {
          "base_uri": "https://localhost:8080/"
        },
        "outputId": "56828ad1-764e-449c-9dca-27e99fb09500"
      },
      "execution_count": null,
      "outputs": [
        {
          "output_type": "stream",
          "name": "stdout",
          "text": [
            "313/313 [==============================] - 10s 32ms/step\n"
          ]
        },
        {
          "output_type": "execute_result",
          "data": {
            "text/plain": [
              "array([7, 8, 8, 0, 6, 6, 1, 6, 3, 1])"
            ]
          },
          "metadata": {},
          "execution_count": 91
        }
      ]
    },
    {
      "cell_type": "markdown",
      "source": [
        "### Have a glance"
      ],
      "metadata": {
        "id": "lkoCYYK8yAXt"
      }
    },
    {
      "cell_type": "code",
      "source": [
        "import matplotlib.pyplot as plt\n",
        "def plot_images_labels_prediction(images,labels,prediction,\n",
        "                                  idx,num=10):\n",
        "    fig = plt.gcf()\n",
        "    fig.set_size_inches(12, 14)\n",
        "    if num>25: num=25\n",
        "    for i in range(0, num):\n",
        "        ax=plt.subplot(5,5, 1+i)\n",
        "        ax.imshow(images[idx],cmap='binary')\n",
        "\n",
        "        title=str(i)+','+label_dict[labels[i][0]]\n",
        "        if len(prediction)>0:\n",
        "            title+='=>'+label_dict[prediction[i]]\n",
        "\n",
        "        ax.set_title(title,fontsize=10)\n",
        "        ax.set_xticks([]);ax.set_yticks([])\n",
        "        idx+=1\n",
        "    plt.show()"
      ],
      "metadata": {
        "id": "saxU1si9W9cy"
      },
      "execution_count": null,
      "outputs": []
    },
    {
      "cell_type": "code",
      "source": [
        "plot_images_labels_prediction(x_test_norm, y_test,\n",
        "                              prediction,0,10)"
      ],
      "metadata": {
        "id": "G0xbPzJwW_QR",
        "colab": {
          "base_uri": "https://localhost:8080/",
          "height": 440
        },
        "outputId": "c179dd9b-51cb-420d-8e81-feffb9123291"
      },
      "execution_count": null,
      "outputs": [
        {
          "output_type": "display_data",
          "data": {
            "text/plain": [
              "<Figure size 1200x1400 with 10 Axes>"
            ],
            "image/png": "[encoded data removed]"
          },
          "metadata": {}
        }
      ]
    },
    {
      "cell_type": "code",
      "source": [
        "Predicted_Probability=model.predict(x_test_norm)"
      ],
      "metadata": {
        "id": "UDsbda1KXFqy",
        "colab": {
          "base_uri": "https://localhost:8080/"
        },
        "outputId": "625d9de4-61a9-48fd-80f7-6909612bcfff"
      },
      "execution_count": null,
      "outputs": [
        {
          "output_type": "stream",
          "name": "stdout",
          "text": [
            "313/313 [==============================] - 9s 30ms/step\n"
          ]
        }
      ]
    },
    {
      "cell_type": "markdown",
      "source": [
        "### Single image"
      ],
      "metadata": {
        "id": "wdzvTNXYyE_C"
      }
    },
    {
      "cell_type": "code",
      "source": [
        "def show_Predicted_Probability(y,prediction,\n",
        "                               x_img,Predicted_Probability,i):\n",
        "    print('label:',label_dict[y[i][0]],\n",
        "          'predict:',label_dict[prediction[i]])\n",
        "    plt.figure(figsize=(2,2))\n",
        "    plt.imshow(np.reshape(x_test_norm[i],(32, 32,3)))\n",
        "    plt.show()\n",
        "    for j in range(10):\n",
        "        print(label_dict[j]+\n",
        "              ' Probability:%1.9f'%(Predicted_Probability[i][j]))"
      ],
      "metadata": {
        "id": "Q0aKnsdVXICT"
      },
      "execution_count": null,
      "outputs": []
    },
    {
      "cell_type": "code",
      "source": [
        "show_Predicted_Probability(y_test,prediction,\n",
        "                           x_test_norm,Predicted_Probability,0)"
      ],
      "metadata": {
        "id": "fPNewI3XXNDt",
        "colab": {
          "base_uri": "https://localhost:8080/",
          "height": 408
        },
        "outputId": "b07a2086-76fc-4553-a594-1b5d52b5cb3c"
      },
      "execution_count": null,
      "outputs": [
        {
          "output_type": "stream",
          "name": "stdout",
          "text": [
            "label: cat predict: horse\n"
          ]
        },
        {
          "output_type": "display_data",
          "data": {
            "text/plain": [
              "<Figure size 200x200 with 1 Axes>"
            ],
            "image/png": "[encoded data removed]"
          },
          "metadata": {}
        },
        {
          "output_type": "stream",
          "name": "stdout",
          "text": [
            "airplane Probability:0.011127605\n",
            "automobile Probability:0.006144510\n",
            "bird Probability:0.016507259\n",
            "cat Probability:0.230124518\n",
            "deer Probability:0.036914188\n",
            "dog Probability:0.282722980\n",
            "frog Probability:0.025838396\n",
            "horse Probability:0.356445789\n",
            "ship Probability:0.003316106\n",
            "truck Probability:0.030858602\n"
          ]
        }
      ]
    },
    {
      "cell_type": "markdown",
      "source": [
        "### Confusion matrix"
      ],
      "metadata": {
        "id": "2OSXIkxcyGtR"
      }
    },
    {
      "cell_type": "code",
      "source": [
        "import pandas as pd\n",
        "print(label_dict)\n",
        "pd.crosstab(y_test.reshape(-1),prediction,\n",
        "            rownames=['label'],colnames=['predict'])"
      ],
      "metadata": {
        "colab": {
          "base_uri": "https://localhost:8080/",
          "height": 412
        },
        "id": "JZfO8Lh3vCvU",
        "outputId": "24f6a525-d845-4733-bbae-44d77735ac01"
      },
      "execution_count": null,
      "outputs": [
        {
          "output_type": "stream",
          "name": "stdout",
          "text": [
            "{0: 'airplane', 1: 'automobile', 2: 'bird', 3: 'cat', 4: 'deer', 5: 'dog', 6: 'frog', 7: 'horse', 8: 'ship', 9: 'truck'}\n"
          ]
        },
        {
          "output_type": "execute_result",
          "data": {
            "text/plain": [
              "predict    0    1    2    3    4    5    6    7    8    9\n",
              "label                                                    \n",
              "0        723   27   50   32   18    7   11   18   69   45\n",
              "1          6  838    2   19    6    3   12    5    7  102\n",
              "2         59    5  443   86  201   64  103   13   12   14\n",
              "3         13   15   38  492  102  190   84   40    8   18\n",
              "4         13    3   37   45  787   22   27   53    9    4\n",
              "5          5    7   27  168   72  629   31   43    4   14\n",
              "6          4    1   22   52   79   28  801    3    4    6\n",
              "7         10    6   23   62  100   51   11  722    0   15\n",
              "8         40   70   20   10   19   16    9    6  767   43\n",
              "9         18   80    3   19    7    9    6   11   19  828"
            ],
            "text/html": [
              "\n",
              "  <div id=\"df-0287e678-c3aa-43c6-a0a5-b9481a1d3d46\">\n",
              "    <div class=\"colab-df-container\">\n",
              "      <div>\n",
              "<style scoped>\n",
              "    .dataframe tbody tr th:only-of-type {\n",
              "        vertical-align: middle;\n",
              "    }\n",
              "\n",
              "    .dataframe tbody tr th {\n",
              "        vertical-align: top;\n",
              "    }\n",
              "\n",
              "    .dataframe thead th {\n",
              "        text-align: right;\n",
              "    }\n",
              "</style>\n",
              "<table border=\"1\" class=\"dataframe\">\n",
              "  <thead>\n",
              "    <tr style=\"text-align: right;\">\n",
              "      <th>predict</th>\n",
              "      <th>0</th>\n",
              "      <th>1</th>\n",
              "      <th>2</th>\n",
              "      <th>3</th>\n",
              "      <th>4</th>\n",
              "      <th>5</th>\n",
              "      <th>6</th>\n",
              "      <th>7</th>\n",
              "      <th>8</th>\n",
              "      <th>9</th>\n",
              "    </tr>\n",
              "    <tr>\n",
              "      <th>label</th>\n",
              "      <th></th>\n",
              "      <th></th>\n",
              "      <th></th>\n",
              "      <th></th>\n",
              "      <th></th>\n",
              "      <th></th>\n",
              "      <th></th>\n",
              "      <th></th>\n",
              "      <th></th>\n",
              "      <th></th>\n",
              "    </tr>\n",
              "  </thead>\n",
              "  <tbody>\n",
              "    <tr>\n",
              "      <th>0</th>\n",
              "      <td>723</td>\n",
              "      <td>27</td>\n",
              "      <td>50</td>\n",
              "      <td>32</td>\n",
              "      <td>18</td>\n",
              "      <td>7</td>\n",
              "      <td>11</td>\n",
              "      <td>18</td>\n",
              "      <td>69</td>\n",
              "      <td>45</td>\n",
              "    </tr>\n",
              "    <tr>\n",
              "      <th>1</th>\n",
              "      <td>6</td>\n",
              "      <td>838</td>\n",
              "      <td>2</td>\n",
              "      <td>19</td>\n",
              "      <td>6</td>\n",
              "      <td>3</td>\n",
              "      <td>12</td>\n",
              "      <td>5</td>\n",
              "      <td>7</td>\n",
              "      <td>102</td>\n",
              "    </tr>\n",
              "    <tr>\n",
              "      <th>2</th>\n",
              "      <td>59</td>\n",
              "      <td>5</td>\n",
              "      <td>443</td>\n",
              "      <td>86</td>\n",
              "      <td>201</td>\n",
              "      <td>64</td>\n",
              "      <td>103</td>\n",
              "      <td>13</td>\n",
              "      <td>12</td>\n",
              "      <td>14</td>\n",
              "    </tr>\n",
              "    <tr>\n",
              "      <th>3</th>\n",
              "      <td>13</td>\n",
              "      <td>15</td>\n",
              "      <td>38</td>\n",
              "      <td>492</td>\n",
              "      <td>102</td>\n",
              "      <td>190</td>\n",
              "      <td>84</td>\n",
              "      <td>40</td>\n",
              "      <td>8</td>\n",
              "      <td>18</td>\n",
              "    </tr>\n",
              "    <tr>\n",
              "      <th>4</th>\n",
              "      <td>13</td>\n",
              "      <td>3</td>\n",
              "      <td>37</td>\n",
              "      <td>45</td>\n",
              "      <td>787</td>\n",
              "      <td>22</td>\n",
              "      <td>27</td>\n",
              "      <td>53</td>\n",
              "      <td>9</td>\n",
              "      <td>4</td>\n",
              "    </tr>\n",
              "    <tr>\n",
              "      <th>5</th>\n",
              "      <td>5</td>\n",
              "      <td>7</td>\n",
              "      <td>27</td>\n",
              "      <td>168</td>\n",
              "      <td>72</td>\n",
              "      <td>629</td>\n",
              "      <td>31</td>\n",
              "      <td>43</td>\n",
              "      <td>4</td>\n",
              "      <td>14</td>\n",
              "    </tr>\n",
              "    <tr>\n",
              "      <th>6</th>\n",
              "      <td>4</td>\n",
              "      <td>1</td>\n",
              "      <td>22</td>\n",
              "      <td>52</td>\n",
              "      <td>79</td>\n",
              "      <td>28</td>\n",
              "      <td>801</td>\n",
              "      <td>3</td>\n",
              "      <td>4</td>\n",
              "      <td>6</td>\n",
              "    </tr>\n",
              "    <tr>\n",
              "      <th>7</th>\n",
              "      <td>10</td>\n",
              "      <td>6</td>\n",
              "      <td>23</td>\n",
              "      <td>62</td>\n",
              "      <td>100</td>\n",
              "      <td>51</td>\n",
              "      <td>11</td>\n",
              "      <td>722</td>\n",
              "      <td>0</td>\n",
              "      <td>15</td>\n",
              "    </tr>\n",
              "    <tr>\n",
              "      <th>8</th>\n",
              "      <td>40</td>\n",
              "      <td>70</td>\n",
              "      <td>20</td>\n",
              "      <td>10</td>\n",
              "      <td>19</td>\n",
              "      <td>16</td>\n",
              "      <td>9</td>\n",
              "      <td>6</td>\n",
              "      <td>767</td>\n",
              "      <td>43</td>\n",
              "    </tr>\n",
              "    <tr>\n",
              "      <th>9</th>\n",
              "      <td>18</td>\n",
              "      <td>80</td>\n",
              "      <td>3</td>\n",
              "      <td>19</td>\n",
              "      <td>7</td>\n",
              "      <td>9</td>\n",
              "      <td>6</td>\n",
              "      <td>11</td>\n",
              "      <td>19</td>\n",
              "      <td>828</td>\n",
              "    </tr>\n",
              "  </tbody>\n",
              "</table>\n",
              "</div>\n",
              "      <button class=\"colab-df-convert\" onclick=\"convertToInteractive('df-0287e678-c3aa-43c6-a0a5-b9481a1d3d46')\"\n",
              "              title=\"Convert this dataframe to an interactive table.\"\n",
              "              style=\"display:none;\">\n",
              "        \n",
              "  <svg xmlns=\"http://www.w3.org/2000/svg\" height=\"24px\"viewBox=\"0 0 24 24\"\n",
              "       width=\"24px\">\n",
              "    <path d=\"M0 0h24v24H0V0z\" fill=\"none\"/>\n",
              "    <path d=\"M18.56 5.44l.94 2.06.94-2.06 2.06-.94-2.06-.94-.94-2.06-.94 2.06-2.06.94zm-11 1L8.5 8.5l.94-2.06 2.06-.94-2.06-.94L8.5 2.5l-.94 2.06-2.06.94zm10 10l.94 2.06.94-2.06 2.06-.94-2.06-.94-.94-2.06-.94 2.06-2.06.94z\"/><path d=\"M17.41 7.96l-1.37-1.37c-.4-.4-.92-.59-1.43-.59-.52 0-1.04.2-1.43.59L10.3 9.45l-7.72 7.72c-.78.78-.78 2.05 0 2.83L4 21.41c.39.39.9.59 1.41.59.51 0 1.02-.2 1.41-.59l7.78-7.78 2.81-2.81c.8-.78.8-2.07 0-2.86zM5.41 20L4 18.59l7.72-7.72 1.47 1.35L5.41 20z\"/>\n",
              "  </svg>\n",
              "      </button>\n",
              "      \n",
              "  <style>\n",
              "    .colab-df-container {\n",
              "      display:flex;\n",
              "      flex-wrap:wrap;\n",
              "      gap: 12px;\n",
              "    }\n",
              "\n",
              "    .colab-df-convert {\n",
              "      background-color: #E8F0FE;\n",
              "      border: none;\n",
              "      border-radius: 50%;\n",
              "      cursor: pointer;\n",
              "      display: none;\n",
              "      fill: #1967D2;\n",
              "      height: 32px;\n",
              "      padding: 0 0 0 0;\n",
              "      width: 32px;\n",
              "    }\n",
              "\n",
              "    .colab-df-convert:hover {\n",
              "      background-color: #E2EBFA;\n",
              "      box-shadow: 0px 1px 2px rgba(60, 64, 67, 0.3), 0px 1px 3px 1px rgba(60, 64, 67, 0.15);\n",
              "      fill: #174EA6;\n",
              "    }\n",
              "\n",
              "    [theme=dark] .colab-df-convert {\n",
              "      background-color: #3B4455;\n",
              "      fill: #D2E3FC;\n",
              "    }\n",
              "\n",
              "    [theme=dark] .colab-df-convert:hover {\n",
              "      background-color: #434B5C;\n",
              "      box-shadow: 0px 1px 3px 1px rgba(0, 0, 0, 0.15);\n",
              "      filter: drop-shadow(0px 1px 2px rgba(0, 0, 0, 0.3));\n",
              "      fill: #FFFFFF;\n",
              "    }\n",
              "  </style>\n",
              "\n",
              "      <script>\n",
              "        const buttonEl =\n",
              "          document.querySelector('#df-0287e678-c3aa-43c6-a0a5-b9481a1d3d46 button.colab-df-convert');\n",
              "        buttonEl.style.display =\n",
              "          google.colab.kernel.accessAllowed ? 'block' : 'none';\n",
              "\n",
              "        async function convertToInteractive(key) {\n",
              "          const element = document.querySelector('#df-0287e678-c3aa-43c6-a0a5-b9481a1d3d46');\n",
              "          const dataTable =\n",
              "            await google.colab.kernel.invokeFunction('convertToInteractive',\n",
              "                                                     [key], {});\n",
              "          if (!dataTable) return;\n",
              "\n",
              "          const docLinkHtml = 'Like what you see? Visit the ' +\n",
              "            '<a target=\"_blank\" href=https://colab.research.google.com/notebooks/data_table.ipynb>data table notebook</a>'\n",
              "            + ' to learn more about interactive tables.';\n",
              "          element.innerHTML = '';\n",
              "          dataTable['output_type'] = 'display_data';\n",
              "          await google.colab.output.renderOutput(dataTable, element);\n",
              "          const docLink = document.createElement('div');\n",
              "          docLink.innerHTML = docLinkHtml;\n",
              "          element.appendChild(docLink);\n",
              "        }\n",
              "      </script>\n",
              "    </div>\n",
              "  </div>\n",
              "  "
            ]
          },
          "metadata": {},
          "execution_count": 97
        }
      ]
    },
    {
      "cell_type": "markdown",
      "source": [
        "## Save weight"
      ],
      "metadata": {
        "id": "6pQoZRxgyIu6"
      }
    },
    {
      "cell_type": "code",
      "source": [
        "model.save_weights(\"./cifarCnnModel.h5\")"
      ],
      "metadata": {
        "id": "lBwLv8L-vEZF"
      },
      "execution_count": null,
      "outputs": []
    }
  ]
}