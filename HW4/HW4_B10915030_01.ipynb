{
  "nbformat": 4,
  "nbformat_minor": 0,
  "metadata": {
    "colab": {
      "provenance": []
    },
    "kernelspec": {
      "name": "python3",
      "display_name": "Python 3"
    },
    "language_info": {
      "name": "python"
    }
  },
  "cells": [
    {
      "cell_type": "markdown",
      "source": [
        "## Import library"
      ],
      "metadata": {
        "id": "6nErbOXEKgF7"
      }
    },
    {
      "cell_type": "code",
      "execution_count": 41,
      "metadata": {
        "id": "8uI7XOhkJyqW"
      },
      "outputs": [],
      "source": [
        "import tensorflow as tf\n",
        "import numpy as np\n",
        "import matplotlib.pyplot as plt\n",
        "from tensorflow.keras.utils import to_categorical"
      ]
    },
    {
      "cell_type": "markdown",
      "source": [
        "## Dataset"
      ],
      "metadata": {
        "id": "r9MY81yZKj6j"
      }
    },
    {
      "cell_type": "markdown",
      "source": [
        "### Load cifar10"
      ],
      "metadata": {
        "id": "MZWW-072UQTS"
      }
    },
    {
      "cell_type": "code",
      "source": [
        "cifar10 = tf.keras.datasets.cifar10\n",
        "\n",
        "(x_train, y_train), (x_test, y_test) = cifar10.load_data() #載入cifar到程式中"
      ],
      "metadata": {
        "id": "4_sUeY5KKa17"
      },
      "execution_count": 42,
      "outputs": []
    },
    {
      "cell_type": "code",
      "source": [
        "print(\"train data:\",'images:',x_train.shape,\n",
        "      \" labels:\",y_train.shape)\n",
        "print(\"test  data:\",'images:',x_test.shape ,\n",
        "      \" labels:\",y_test.shape)"
      ],
      "metadata": {
        "colab": {
          "base_uri": "https://localhost:8080/"
        },
        "id": "bb-nIs7oUVYa",
        "outputId": "2dbf1ebd-041b-4398-e1c7-7ae24168a049"
      },
      "execution_count": 43,
      "outputs": [
        {
          "output_type": "stream",
          "name": "stdout",
          "text": [
            "train data: images: (50000, 32, 32, 3)  labels: (50000, 1)\n",
            "test  data: images: (10000, 32, 32, 3)  labels: (10000, 1)\n"
          ]
        }
      ]
    },
    {
      "cell_type": "markdown",
      "source": [
        "### Normalize"
      ],
      "metadata": {
        "id": "bX3nvsssURnV"
      }
    },
    {
      "cell_type": "code",
      "source": [
        "#把0-255的像素轉換到0-1之間\n",
        "x_train_norm = x_train / 255.0\n",
        "x_test_norm = x_test / 255.0"
      ],
      "metadata": {
        "id": "gcIGOj-WUSv4"
      },
      "execution_count": 44,
      "outputs": []
    },
    {
      "cell_type": "code",
      "source": [
        "x_train_norm.shape"
      ],
      "metadata": {
        "colab": {
          "base_uri": "https://localhost:8080/"
        },
        "id": "eL-gguEsVhRa",
        "outputId": "009ac6a4-6e85-4fa7-d24b-f39bd8b287ee"
      },
      "execution_count": 45,
      "outputs": [
        {
          "output_type": "execute_result",
          "data": {
            "text/plain": [
              "(50000, 32, 32, 3)"
            ]
          },
          "metadata": {},
          "execution_count": 45
        }
      ]
    },
    {
      "cell_type": "markdown",
      "source": [
        "### One hot encode"
      ],
      "metadata": {
        "id": "c4nvncCkD9dO"
      }
    },
    {
      "cell_type": "code",
      "source": [
        "#進行One hot encode 作為label\n",
        "y_train_OneHot = to_categorical(y_train)\n",
        "y_test_OneHot = to_categorical(y_test)"
      ],
      "metadata": {
        "id": "t5Aa2r3aD_GA"
      },
      "execution_count": 46,
      "outputs": []
    },
    {
      "cell_type": "markdown",
      "source": [
        "## Model"
      ],
      "metadata": {
        "id": "ZN9UuqqIKr5Q"
      }
    },
    {
      "cell_type": "code",
      "source": [
        "#建立模型: MPL(Multilayer perceptron, 多層感知器) 神經網路\n",
        "model = tf.keras.models.Sequential([\n",
        "  tf.keras.layers.Flatten(input_shape=(32, 32, 3)), #將32*32*3的圖片壓成3072*1的向量\n",
        "  tf.keras.layers.Dense(512, activation='relu'), #全連接層(3072 -> 512)，使用relu做激勵函數\n",
        "  tf.keras.layers.Dense(256, activation='relu'), #全連接層(512 -> 256)，使用relu做激勵函數\n",
        "  tf.keras.layers.Dense(128, activation='relu'), #全連接層(256 -> 128)，使用relu做激勵函數\n",
        "  tf.keras.layers.Dropout(0.2), #20% Dropout (20%的節點隨機輸出歸零)\n",
        "  tf.keras.layers.Dense(10, activation='softmax') #全連接層輸出 (十類分類指數)，使用softmax做激勵函數\n",
        "])"
      ],
      "metadata": {
        "id": "B3pY7aclKtT8"
      },
      "execution_count": 47,
      "outputs": []
    },
    {
      "cell_type": "code",
      "source": [
        "model.summary()"
      ],
      "metadata": {
        "colab": {
          "base_uri": "https://localhost:8080/"
        },
        "id": "YUvkH8-LxEq0",
        "outputId": "658e2ebe-1eed-4388-a951-8cdc9033b832"
      },
      "execution_count": 65,
      "outputs": [
        {
          "output_type": "stream",
          "name": "stdout",
          "text": [
            "Model: \"sequential_2\"\n",
            "_________________________________________________________________\n",
            " Layer (type)                Output Shape              Param #   \n",
            "=================================================================\n",
            " flatten_2 (Flatten)         (None, 3072)              0         \n",
            "                                                                 \n",
            " dense_8 (Dense)             (None, 512)               1573376   \n",
            "                                                                 \n",
            " dense_9 (Dense)             (None, 256)               131328    \n",
            "                                                                 \n",
            " dense_10 (Dense)            (None, 128)               32896     \n",
            "                                                                 \n",
            " dropout_2 (Dropout)         (None, 128)               0         \n",
            "                                                                 \n",
            " dense_11 (Dense)            (None, 10)                1290      \n",
            "                                                                 \n",
            "=================================================================\n",
            "Total params: 1,738,890\n",
            "Trainable params: 1,738,890\n",
            "Non-trainable params: 0\n",
            "_________________________________________________________________\n"
          ]
        }
      ]
    },
    {
      "cell_type": "markdown",
      "source": [
        "### Load weight\n",
        "\n"
      ],
      "metadata": {
        "id": "_RJLKPeQzdHU"
      }
    },
    {
      "cell_type": "code",
      "source": [
        "try:\n",
        "    model.load_weights(\"./cifarCnnModel.h5\")\n",
        "    print(\"載入模型成功!繼續訓練模型\")\n",
        "except :\n",
        "    print(\"載入模型失敗!開始訓練一個新模型\")"
      ],
      "metadata": {
        "id": "vDECdCHJxPPf"
      },
      "execution_count": null,
      "outputs": []
    },
    {
      "cell_type": "markdown",
      "source": [
        "## Training\n"
      ],
      "metadata": {
        "id": "mtTrazaHxFxF"
      }
    },
    {
      "cell_type": "code",
      "source": [
        "model.compile(optimizer='adam',  #用 adam 優化器\n",
        "              loss='categorical_crossentropy', #指定損失函式\n",
        "              metrics=['accuracy']) #評估指標用「正確度(答對的比率)」"
      ],
      "metadata": {
        "id": "g216c8akLRe_"
      },
      "execution_count": 48,
      "outputs": []
    },
    {
      "cell_type": "code",
      "source": [
        "train_history = model.fit(x_train_norm, y_train_OneHot,\n",
        "                          validation_split=0.2, #20%的測試資料拿去當驗證集\n",
        "                          epochs=10, #訓練：10 epochs (訓練資料跑完十次)\n",
        "                          batch_size=128, #一次讀進的資料量\n",
        "                          verbose=1) #進度條"
      ],
      "metadata": {
        "colab": {
          "base_uri": "https://localhost:8080/"
        },
        "id": "j_mlsQNwLS9f",
        "outputId": "55b27178-4ee7-4e95-ff25-a8ec193d401f"
      },
      "execution_count": 49,
      "outputs": [
        {
          "output_type": "stream",
          "name": "stdout",
          "text": [
            "Epoch 1/10\n",
            "313/313 [==============================] - 15s 47ms/step - loss: 1.9918 - accuracy: 0.2698 - val_loss: 1.8457 - val_accuracy: 0.3420\n",
            "Epoch 2/10\n",
            "313/313 [==============================] - 15s 48ms/step - loss: 1.7890 - accuracy: 0.3609 - val_loss: 1.7224 - val_accuracy: 0.3798\n",
            "Epoch 3/10\n",
            "313/313 [==============================] - 14s 45ms/step - loss: 1.6994 - accuracy: 0.3921 - val_loss: 1.6963 - val_accuracy: 0.3919\n",
            "Epoch 4/10\n",
            "313/313 [==============================] - 15s 46ms/step - loss: 1.6371 - accuracy: 0.4166 - val_loss: 1.6065 - val_accuracy: 0.4282\n",
            "Epoch 5/10\n",
            "313/313 [==============================] - 17s 54ms/step - loss: 1.5794 - accuracy: 0.4383 - val_loss: 1.5650 - val_accuracy: 0.4375\n",
            "Epoch 6/10\n",
            "313/313 [==============================] - 14s 44ms/step - loss: 1.5414 - accuracy: 0.4524 - val_loss: 1.5477 - val_accuracy: 0.4522\n",
            "Epoch 7/10\n",
            "313/313 [==============================] - 14s 45ms/step - loss: 1.5023 - accuracy: 0.4645 - val_loss: 1.5111 - val_accuracy: 0.4611\n",
            "Epoch 8/10\n",
            "313/313 [==============================] - 14s 44ms/step - loss: 1.4769 - accuracy: 0.4722 - val_loss: 1.5283 - val_accuracy: 0.4518\n",
            "Epoch 9/10\n",
            "313/313 [==============================] - 14s 45ms/step - loss: 1.4456 - accuracy: 0.4882 - val_loss: 1.4818 - val_accuracy: 0.4749\n",
            "Epoch 10/10\n",
            "313/313 [==============================] - 14s 43ms/step - loss: 1.4155 - accuracy: 0.4945 - val_loss: 1.4890 - val_accuracy: 0.4702\n"
          ]
        }
      ]
    },
    {
      "cell_type": "markdown",
      "source": [
        "### Accuracy"
      ],
      "metadata": {
        "id": "EAazlvoMx2V2"
      }
    },
    {
      "cell_type": "code",
      "source": [
        "def show_acc_train_history(train_acc,test_acc):\n",
        "    plt.plot(train_history.history[train_acc])\n",
        "    plt.plot(train_history.history[test_acc])\n",
        "    plt.title('Train History')\n",
        "    plt.ylabel('Accuracy')\n",
        "    plt.xlabel('Epoch')\n",
        "    plt.legend(['train', 'test'], loc='upper left')\n",
        "    plt.show()"
      ],
      "metadata": {
        "id": "p_TeinsGSTQP"
      },
      "execution_count": 50,
      "outputs": []
    },
    {
      "cell_type": "code",
      "source": [
        "show_acc_train_history('accuracy','val_accuracy')"
      ],
      "metadata": {
        "colab": {
          "base_uri": "https://localhost:8080/",
          "height": 472
        },
        "id": "Md4wSTxQu2dj",
        "outputId": "a313c821-8f2d-4e47-e4be-e4e5be9402f6"
      },
      "execution_count": 51,
      "outputs": [
        {
          "output_type": "display_data",
          "data": {
            "text/plain": [
              "<Figure size 640x480 with 1 Axes>"
            ],
            "image/png": "[encoded data removed]"
          },
          "metadata": {}
        }
      ]
    },
    {
      "cell_type": "markdown",
      "source": [
        "### Loss"
      ],
      "metadata": {
        "id": "olbN-5lCx4ZT"
      }
    },
    {
      "cell_type": "code",
      "source": [
        "def show_loss_train_history(train_loss,test_loss):\n",
        "    plt.plot(train_history.history[train_loss])\n",
        "    plt.plot(train_history.history[test_loss])\n",
        "    plt.title('Train History')\n",
        "    plt.ylabel('Loss')\n",
        "    plt.xlabel('Epoch')\n",
        "    plt.legend(['train', 'test'], loc='upper left')\n",
        "    plt.show()"
      ],
      "metadata": {
        "id": "hxeSgc1Hu5YX"
      },
      "execution_count": 52,
      "outputs": []
    },
    {
      "cell_type": "code",
      "source": [
        "show_loss_train_history('loss','val_loss')"
      ],
      "metadata": {
        "colab": {
          "base_uri": "https://localhost:8080/",
          "height": 472
        },
        "id": "8gnQmbioSh4H",
        "outputId": "d47476e0-33c6-4f13-9f28-c6cf13892dca"
      },
      "execution_count": 53,
      "outputs": [
        {
          "output_type": "display_data",
          "data": {
            "text/plain": [
              "<Figure size 640x480 with 1 Axes>"
            ],
            "image/png": "[encoded data removed]"
          },
          "metadata": {}
        }
      ]
    },
    {
      "cell_type": "markdown",
      "source": [
        "## Test"
      ],
      "metadata": {
        "id": "GuMWBF9ZxItQ"
      }
    },
    {
      "cell_type": "code",
      "source": [
        "label_dict={0:\"airplane\",1:\"automobile\",2:\"bird\",3:\"cat\",4:\"deer\",\n",
        "            5:\"dog\",6:\"frog\",7:\"horse\",8:\"ship\",9:\"truck\"}"
      ],
      "metadata": {
        "id": "ljC6M7xvW8G2"
      },
      "execution_count": 56,
      "outputs": []
    },
    {
      "cell_type": "markdown",
      "source": [
        "### On test set"
      ],
      "metadata": {
        "id": "uF8doYTEx57o"
      }
    },
    {
      "cell_type": "code",
      "source": [
        "loss, acc = model.evaluate(x_test_norm,  y_test_OneHot, verbose=0) #評估測試組的平均損失與正確率\n",
        "print(\"Loss:\", loss)\n",
        "print(\"Accuracy\", acc)"
      ],
      "metadata": {
        "colab": {
          "base_uri": "https://localhost:8080/"
        },
        "id": "v5m16HbNLUkJ",
        "outputId": "48b33752-7bb0-4f0b-b9f0-fe433f6eae91"
      },
      "execution_count": 54,
      "outputs": [
        {
          "output_type": "stream",
          "name": "stdout",
          "text": [
            "Loss: 1.4747340679168701\n",
            "Accuracy 0.4740999937057495\n"
          ]
        }
      ]
    },
    {
      "cell_type": "code",
      "source": [
        "prediction=np.argmax(model.predict(x_test_norm), axis=-1)\n",
        "prediction[:10]"
      ],
      "metadata": {
        "id": "2wQGFx50LWMS",
        "colab": {
          "base_uri": "https://localhost:8080/"
        },
        "outputId": "0fdbeae1-aa6a-47e0-a9f4-fee4b64a03e6"
      },
      "execution_count": 55,
      "outputs": [
        {
          "output_type": "stream",
          "name": "stdout",
          "text": [
            "313/313 [==============================] - 2s 7ms/step\n"
          ]
        },
        {
          "output_type": "execute_result",
          "data": {
            "text/plain": [
              "array([5, 1, 0, 0, 4, 6, 3, 6, 2, 1])"
            ]
          },
          "metadata": {},
          "execution_count": 55
        }
      ]
    },
    {
      "cell_type": "markdown",
      "source": [
        "### Have a glance"
      ],
      "metadata": {
        "id": "lkoCYYK8yAXt"
      }
    },
    {
      "cell_type": "code",
      "source": [
        "import matplotlib.pyplot as plt\n",
        "def plot_images_labels_prediction(images,labels,prediction,\n",
        "                                  idx,num=10):\n",
        "    fig = plt.gcf()\n",
        "    fig.set_size_inches(12, 14)\n",
        "    if num>25: num=25\n",
        "    for i in range(0, num):\n",
        "        ax=plt.subplot(5,5, 1+i)\n",
        "        ax.imshow(images[idx],cmap='binary')\n",
        "\n",
        "        title=str(i)+','+label_dict[labels[i][0]]\n",
        "        if len(prediction)>0:\n",
        "            title+='=>'+label_dict[prediction[i]]\n",
        "\n",
        "        ax.set_title(title,fontsize=10)\n",
        "        ax.set_xticks([]);ax.set_yticks([])\n",
        "        idx+=1\n",
        "    plt.show()"
      ],
      "metadata": {
        "id": "saxU1si9W9cy"
      },
      "execution_count": 57,
      "outputs": []
    },
    {
      "cell_type": "code",
      "source": [
        "plot_images_labels_prediction(x_test_norm, y_test,\n",
        "                              prediction,0,10)"
      ],
      "metadata": {
        "id": "G0xbPzJwW_QR",
        "colab": {
          "base_uri": "https://localhost:8080/",
          "height": 380
        },
        "outputId": "9b2cf70f-7808-4e01-a6ac-b3177d4d2a80"
      },
      "execution_count": 58,
      "outputs": [
        {
          "output_type": "display_data",
          "data": {
            "text/plain": [
              "<Figure size 1200x1400 with 10 Axes>"
            ],
            "image/png": "[encoded data removed]"
          },
          "metadata": {}
        }
      ]
    },
    {
      "cell_type": "code",
      "source": [
        "Predicted_Probability=model.predict(x_test_norm)"
      ],
      "metadata": {
        "id": "UDsbda1KXFqy",
        "colab": {
          "base_uri": "https://localhost:8080/"
        },
        "outputId": "45f450ce-583b-4d43-e9f0-226a65886e3e"
      },
      "execution_count": 59,
      "outputs": [
        {
          "output_type": "stream",
          "name": "stdout",
          "text": [
            "313/313 [==============================] - 2s 6ms/step\n"
          ]
        }
      ]
    },
    {
      "cell_type": "markdown",
      "source": [
        "### Single image"
      ],
      "metadata": {
        "id": "wdzvTNXYyE_C"
      }
    },
    {
      "cell_type": "code",
      "source": [
        "def show_Predicted_Probability(y,prediction,\n",
        "                               x_img,Predicted_Probability,i):\n",
        "    print('label:',label_dict[y[i][0]],\n",
        "          'predict:',label_dict[prediction[i]])\n",
        "    plt.figure(figsize=(2,2))\n",
        "    plt.imshow(np.reshape(x_test_norm[i],(32, 32,3)))\n",
        "    plt.show()\n",
        "    for j in range(10):\n",
        "        print(label_dict[j]+\n",
        "              ' Probability:%1.9f'%(Predicted_Probability[i][j]))"
      ],
      "metadata": {
        "id": "Q0aKnsdVXICT"
      },
      "execution_count": 60,
      "outputs": []
    },
    {
      "cell_type": "code",
      "source": [
        "show_Predicted_Probability(y_test,prediction,\n",
        "                           x_test_norm,Predicted_Probability,0)"
      ],
      "metadata": {
        "id": "fPNewI3XXNDt",
        "colab": {
          "base_uri": "https://localhost:8080/",
          "height": 408
        },
        "outputId": "2d4ca04c-a4e2-4c2f-a74a-0eefd9536f32"
      },
      "execution_count": 61,
      "outputs": [
        {
          "output_type": "stream",
          "name": "stdout",
          "text": [
            "label: cat predict: dog\n"
          ]
        },
        {
          "output_type": "display_data",
          "data": {
            "text/plain": [
              "<Figure size 200x200 with 1 Axes>"
            ],
            "image/png": "[encoded data removed]"
          },
          "metadata": {}
        },
        {
          "output_type": "stream",
          "name": "stdout",
          "text": [
            "airplane Probability:0.013954024\n",
            "automobile Probability:0.041298635\n",
            "bird Probability:0.066706434\n",
            "cat Probability:0.300847024\n",
            "deer Probability:0.097166255\n",
            "dog Probability:0.313211024\n",
            "frog Probability:0.067172214\n",
            "horse Probability:0.022292662\n",
            "ship Probability:0.061094340\n",
            "truck Probability:0.016257435\n"
          ]
        }
      ]
    },
    {
      "cell_type": "markdown",
      "source": [
        "### Confusion matrix"
      ],
      "metadata": {
        "id": "2OSXIkxcyGtR"
      }
    },
    {
      "cell_type": "code",
      "source": [
        "import pandas as pd\n",
        "print(label_dict)\n",
        "pd.crosstab(y_test.reshape(-1),prediction,\n",
        "            rownames=['label'],colnames=['predict'])"
      ],
      "metadata": {
        "colab": {
          "base_uri": "https://localhost:8080/",
          "height": 432
        },
        "id": "JZfO8Lh3vCvU",
        "outputId": "23723179-b985-4bbd-825a-a39713c0fd95"
      },
      "execution_count": 63,
      "outputs": [
        {
          "output_type": "stream",
          "name": "stdout",
          "text": [
            "{0: 'airplane', 1: 'automobile', 2: 'bird', 3: 'cat', 4: 'deer', 5: 'dog', 6: 'frog', 7: 'horse', 8: 'ship', 9: 'truck'}\n"
          ]
        },
        {
          "output_type": "execute_result",
          "data": {
            "text/plain": [
              "predict    0    1    2    3    4    5    6    7    8    9\n",
              "label                                                    \n",
              "0        588   77   46   22   14   11   42   12  153   35\n",
              "1         34  738    5   23    6   16   24   11   52   91\n",
              "2        118   53  261   92  113   63  224   30   33   13\n",
              "3         44   43   63  312   30  174  222   19   37   56\n",
              "4         83   30  105   65  337   38  263   31   39    9\n",
              "5         37   27   76  202   41  347  164   37   45   24\n",
              "6         12   33   31   63   74   40  702    6   19   20\n",
              "7         84   55   66   87   76   68   95  384   25   60\n",
              "8        131  116   12   29   12   20   17    5  626   32\n",
              "9         61  291    5   31    7   17   37   19   86  446"
            ],
            "text/html": [
              "\n",
              "  <div id=\"df-02e43957-d049-4bab-9e44-2c280f33527b\">\n",
              "    <div class=\"colab-df-container\">\n",
              "      <div>\n",
              "<style scoped>\n",
              "    .dataframe tbody tr th:only-of-type {\n",
              "        vertical-align: middle;\n",
              "    }\n",
              "\n",
              "    .dataframe tbody tr th {\n",
              "        vertical-align: top;\n",
              "    }\n",
              "\n",
              "    .dataframe thead th {\n",
              "        text-align: right;\n",
              "    }\n",
              "</style>\n",
              "<table border=\"1\" class=\"dataframe\">\n",
              "  <thead>\n",
              "    <tr style=\"text-align: right;\">\n",
              "      <th>predict</th>\n",
              "      <th>0</th>\n",
              "      <th>1</th>\n",
              "      <th>2</th>\n",
              "      <th>3</th>\n",
              "      <th>4</th>\n",
              "      <th>5</th>\n",
              "      <th>6</th>\n",
              "      <th>7</th>\n",
              "      <th>8</th>\n",
              "      <th>9</th>\n",
              "    </tr>\n",
              "    <tr>\n",
              "      <th>label</th>\n",
              "      <th></th>\n",
              "      <th></th>\n",
              "      <th></th>\n",
              "      <th></th>\n",
              "      <th></th>\n",
              "      <th></th>\n",
              "      <th></th>\n",
              "      <th></th>\n",
              "      <th></th>\n",
              "      <th></th>\n",
              "    </tr>\n",
              "  </thead>\n",
              "  <tbody>\n",
              "    <tr>\n",
              "      <th>0</th>\n",
              "      <td>588</td>\n",
              "      <td>77</td>\n",
              "      <td>46</td>\n",
              "      <td>22</td>\n",
              "      <td>14</td>\n",
              "      <td>11</td>\n",
              "      <td>42</td>\n",
              "      <td>12</td>\n",
              "      <td>153</td>\n",
              "      <td>35</td>\n",
              "    </tr>\n",
              "    <tr>\n",
              "      <th>1</th>\n",
              "      <td>34</td>\n",
              "      <td>738</td>\n",
              "      <td>5</td>\n",
              "      <td>23</td>\n",
              "      <td>6</td>\n",
              "      <td>16</td>\n",
              "      <td>24</td>\n",
              "      <td>11</td>\n",
              "      <td>52</td>\n",
              "      <td>91</td>\n",
              "    </tr>\n",
              "    <tr>\n",
              "      <th>2</th>\n",
              "      <td>118</td>\n",
              "      <td>53</td>\n",
              "      <td>261</td>\n",
              "      <td>92</td>\n",
              "      <td>113</td>\n",
              "      <td>63</td>\n",
              "      <td>224</td>\n",
              "      <td>30</td>\n",
              "      <td>33</td>\n",
              "      <td>13</td>\n",
              "    </tr>\n",
              "    <tr>\n",
              "      <th>3</th>\n",
              "      <td>44</td>\n",
              "      <td>43</td>\n",
              "      <td>63</td>\n",
              "      <td>312</td>\n",
              "      <td>30</td>\n",
              "      <td>174</td>\n",
              "      <td>222</td>\n",
              "      <td>19</td>\n",
              "      <td>37</td>\n",
              "      <td>56</td>\n",
              "    </tr>\n",
              "    <tr>\n",
              "      <th>4</th>\n",
              "      <td>83</td>\n",
              "      <td>30</td>\n",
              "      <td>105</td>\n",
              "      <td>65</td>\n",
              "      <td>337</td>\n",
              "      <td>38</td>\n",
              "      <td>263</td>\n",
              "      <td>31</td>\n",
              "      <td>39</td>\n",
              "      <td>9</td>\n",
              "    </tr>\n",
              "    <tr>\n",
              "      <th>5</th>\n",
              "      <td>37</td>\n",
              "      <td>27</td>\n",
              "      <td>76</td>\n",
              "      <td>202</td>\n",
              "      <td>41</td>\n",
              "      <td>347</td>\n",
              "      <td>164</td>\n",
              "      <td>37</td>\n",
              "      <td>45</td>\n",
              "      <td>24</td>\n",
              "    </tr>\n",
              "    <tr>\n",
              "      <th>6</th>\n",
              "      <td>12</td>\n",
              "      <td>33</td>\n",
              "      <td>31</td>\n",
              "      <td>63</td>\n",
              "      <td>74</td>\n",
              "      <td>40</td>\n",
              "      <td>702</td>\n",
              "      <td>6</td>\n",
              "      <td>19</td>\n",
              "      <td>20</td>\n",
              "    </tr>\n",
              "    <tr>\n",
              "      <th>7</th>\n",
              "      <td>84</td>\n",
              "      <td>55</td>\n",
              "      <td>66</td>\n",
              "      <td>87</td>\n",
              "      <td>76</td>\n",
              "      <td>68</td>\n",
              "      <td>95</td>\n",
              "      <td>384</td>\n",
              "      <td>25</td>\n",
              "      <td>60</td>\n",
              "    </tr>\n",
              "    <tr>\n",
              "      <th>8</th>\n",
              "      <td>131</td>\n",
              "      <td>116</td>\n",
              "      <td>12</td>\n",
              "      <td>29</td>\n",
              "      <td>12</td>\n",
              "      <td>20</td>\n",
              "      <td>17</td>\n",
              "      <td>5</td>\n",
              "      <td>626</td>\n",
              "      <td>32</td>\n",
              "    </tr>\n",
              "    <tr>\n",
              "      <th>9</th>\n",
              "      <td>61</td>\n",
              "      <td>291</td>\n",
              "      <td>5</td>\n",
              "      <td>31</td>\n",
              "      <td>7</td>\n",
              "      <td>17</td>\n",
              "      <td>37</td>\n",
              "      <td>19</td>\n",
              "      <td>86</td>\n",
              "      <td>446</td>\n",
              "    </tr>\n",
              "  </tbody>\n",
              "</table>\n",
              "</div>\n",
              "      <button class=\"colab-df-convert\" onclick=\"convertToInteractive('df-02e43957-d049-4bab-9e44-2c280f33527b')\"\n",
              "              title=\"Convert this dataframe to an interactive table.\"\n",
              "              style=\"display:none;\">\n",
              "        \n",
              "  <svg xmlns=\"http://www.w3.org/2000/svg\" height=\"24px\"viewBox=\"0 0 24 24\"\n",
              "       width=\"24px\">\n",
              "    <path d=\"M0 0h24v24H0V0z\" fill=\"none\"/>\n",
              "    <path d=\"M18.56 5.44l.94 2.06.94-2.06 2.06-.94-2.06-.94-.94-2.06-.94 2.06-2.06.94zm-11 1L8.5 8.5l.94-2.06 2.06-.94-2.06-.94L8.5 2.5l-.94 2.06-2.06.94zm10 10l.94 2.06.94-2.06 2.06-.94-2.06-.94-.94-2.06-.94 2.06-2.06.94z\"/><path d=\"M17.41 7.96l-1.37-1.37c-.4-.4-.92-.59-1.43-.59-.52 0-1.04.2-1.43.59L10.3 9.45l-7.72 7.72c-.78.78-.78 2.05 0 2.83L4 21.41c.39.39.9.59 1.41.59.51 0 1.02-.2 1.41-.59l7.78-7.78 2.81-2.81c.8-.78.8-2.07 0-2.86zM5.41 20L4 18.59l7.72-7.72 1.47 1.35L5.41 20z\"/>\n",
              "  </svg>\n",
              "      </button>\n",
              "      \n",
              "  <style>\n",
              "    .colab-df-container {\n",
              "      display:flex;\n",
              "      flex-wrap:wrap;\n",
              "      gap: 12px;\n",
              "    }\n",
              "\n",
              "    .colab-df-convert {\n",
              "      background-color: #E8F0FE;\n",
              "      border: none;\n",
              "      border-radius: 50%;\n",
              "      cursor: pointer;\n",
              "      display: none;\n",
              "      fill: #1967D2;\n",
              "      height: 32px;\n",
              "      padding: 0 0 0 0;\n",
              "      width: 32px;\n",
              "    }\n",
              "\n",
              "    .colab-df-convert:hover {\n",
              "      background-color: #E2EBFA;\n",
              "      box-shadow: 0px 1px 2px rgba(60, 64, 67, 0.3), 0px 1px 3px 1px rgba(60, 64, 67, 0.15);\n",
              "      fill: #174EA6;\n",
              "    }\n",
              "\n",
              "    [theme=dark] .colab-df-convert {\n",
              "      background-color: #3B4455;\n",
              "      fill: #D2E3FC;\n",
              "    }\n",
              "\n",
              "    [theme=dark] .colab-df-convert:hover {\n",
              "      background-color: #434B5C;\n",
              "      box-shadow: 0px 1px 3px 1px rgba(0, 0, 0, 0.15);\n",
              "      filter: drop-shadow(0px 1px 2px rgba(0, 0, 0, 0.3));\n",
              "      fill: #FFFFFF;\n",
              "    }\n",
              "  </style>\n",
              "\n",
              "      <script>\n",
              "        const buttonEl =\n",
              "          document.querySelector('#df-02e43957-d049-4bab-9e44-2c280f33527b button.colab-df-convert');\n",
              "        buttonEl.style.display =\n",
              "          google.colab.kernel.accessAllowed ? 'block' : 'none';\n",
              "\n",
              "        async function convertToInteractive(key) {\n",
              "          const element = document.querySelector('#df-02e43957-d049-4bab-9e44-2c280f33527b');\n",
              "          const dataTable =\n",
              "            await google.colab.kernel.invokeFunction('convertToInteractive',\n",
              "                                                     [key], {});\n",
              "          if (!dataTable) return;\n",
              "\n",
              "          const docLinkHtml = 'Like what you see? Visit the ' +\n",
              "            '<a target=\"_blank\" href=https://colab.research.google.com/notebooks/data_table.ipynb>data table notebook</a>'\n",
              "            + ' to learn more about interactive tables.';\n",
              "          element.innerHTML = '';\n",
              "          dataTable['output_type'] = 'display_data';\n",
              "          await google.colab.output.renderOutput(dataTable, element);\n",
              "          const docLink = document.createElement('div');\n",
              "          docLink.innerHTML = docLinkHtml;\n",
              "          element.appendChild(docLink);\n",
              "        }\n",
              "      </script>\n",
              "    </div>\n",
              "  </div>\n",
              "  "
            ]
          },
          "metadata": {},
          "execution_count": 63
        }
      ]
    },
    {
      "cell_type": "markdown",
      "source": [
        "## Save weight"
      ],
      "metadata": {
        "id": "6pQoZRxgyIu6"
      }
    },
    {
      "cell_type": "code",
      "source": [
        "model.save_weights(\"./cifarCnnModel.h5\")"
      ],
      "metadata": {
        "id": "lBwLv8L-vEZF"
      },
      "execution_count": 64,
      "outputs": []
    }
  ]
}